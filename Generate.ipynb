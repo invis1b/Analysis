{
 "cells": [
  {
   "cell_type": "code",
   "execution_count": 1,
   "metadata": {},
   "outputs": [],
   "source": [
    "import numpy as np"
   ]
  },
  {
   "cell_type": "code",
   "execution_count": 2,
   "metadata": {},
   "outputs": [],
   "source": [
    "a=open(\"init_small_size_ratio.dat\",'w')"
   ]
  },
  {
   "cell_type": "code",
   "execution_count": 3,
   "metadata": {},
   "outputs": [
    {
     "data": {
      "text/plain": [
       "19"
      ]
     },
     "execution_count": 3,
     "metadata": {},
     "output_type": "execute_result"
    }
   ],
   "source": [
    "a.write('LAMMPS description\\n')"
   ]
  },
  {
   "cell_type": "code",
   "execution_count": 4,
   "metadata": {},
   "outputs": [],
   "source": [
    "large_particle=[]\n",
    "for i in range(0,10):\n",
    "    for j in range(0,20):\n",
    "       \n",
    "        large_particle.append([-450+j*45,-450*np.sqrt(3)/2+i*45*np.sqrt(3),0])\n",
    "        large_particle.append([-450+j*45+45/2,-450*np.sqrt(3)/2+i*45*np.sqrt(3)+45*np.sqrt(3)/2,0])\n",
    "           \n",
    "        \n",
    "small_particle=[]\n",
    "for i in range(0,10):\n",
    "    for j in range(0,20):\n",
    "        for k in range(0,6):\n",
    "            small_particle.append([-450+j*45+15+4*k,-450*np.sqrt(3)/2+i*45*np.sqrt(3)+18,0])\n",
    "            small_particle.append([-450+j*45+45/2+15+4*k,-450*np.sqrt(3)/2+i*45*np.sqrt(3)+45*np.sqrt(3)/2+18,0])\n",
    "            small_particle.append([-450+j*45+15+4*k,-450*np.sqrt(3)/2+i*45*np.sqrt(3)+22,0])\n",
    "            small_particle.append([-450+j*45+45/2+15+4*k,-450*np.sqrt(3)/2+i*45*np.sqrt(3)+45*np.sqrt(3)/2+22,0])            \n",
    "            #small_particle.append([-450+j*45+15+8*k,-450*np.sqrt(3)/2+i*45*np.sqrt(3)+18,8])\n",
    "            #small_particle.append([-450+j*45+45/2+15+8*k,-450*np.sqrt(3)/2+i*45*np.sqrt(3)+45*np.sqrt(3)/2+18,8])\n",
    "\n",
    "#large_layer_2=[[i[0]+45/2,i[1]+np.sqrt(3)*45/6,i[2]+np.sqrt(6)*45/3] for i in large_particle]\n",
    "#large_layer_3=[[i[0],i[1]+np.sqrt(3)*45/3,i[2]-np.sqrt(6)*45/3] for i in large_particle]\n",
    "#large_particle=large_particle+large_layer_2+large_layer_3\n",
    "#small_layer_2=[[i[0]+45/2,i[1]+np.sqrt(3)*45/6,i[2]+np.sqrt(6)*45/3] for i in small_particle]\n",
    "#small_layer_3=[[i[0],i[1]+np.sqrt(3)*45/3,i[2]-np.sqrt(6)*45/3] for i in small_particle]\n",
    "#small_particle=small_particle+small_layer_2+small_layer_3\n"
   ]
  },
  {
   "cell_type": "code",
   "execution_count": 5,
   "metadata": {},
   "outputs": [],
   "source": [
    "#bond_list=[]\n",
    "#for i in range(0,10):\n",
    " #   for j in range(0,20):\n",
    "  #      if j<19:\n",
    "   #         bond_list.append([40*i+2*j,40*i+2*j+2])\n",
    "    #    bond_list.append([40*i+2*j+1,40*i+2*j+3])\n",
    "     #   else:\n",
    "      #      bond_list.append([40*i+38,40*i])\n",
    "       #     bond_list.append([40*i+39,40*i+1])\n",
    "            "
   ]
  },
  {
   "cell_type": "code",
   "execution_count": 6,
   "metadata": {},
   "outputs": [
    {
     "data": {
      "text/plain": [
       "1"
      ]
     },
     "execution_count": 6,
     "metadata": {},
     "output_type": "execute_result"
    }
   ],
   "source": [
    "a.write('\\n')"
   ]
  },
  {
   "cell_type": "code",
   "execution_count": 7,
   "metadata": {},
   "outputs": [
    {
     "data": {
      "text/plain": [
       "1"
      ]
     },
     "execution_count": 7,
     "metadata": {},
     "output_type": "execute_result"
    }
   ],
   "source": [
    "a.write('5200 atoms\\n')\n",
    "#a.write('400 bonds\\n')\n",
    "a.write('\\n')\n",
    "a.write(\"2 atom types\\n\")\n",
    "#a.write(\"1 bond types\\n\")\n",
    "a.write('\\n')\n",
    "a.write(\"-450 450 xlo xhi\\n\")\n",
    "a.write(\"-389.7 389.7 ylo yhi\\n\")\n",
    "a.write(\"-0.5 0.5 zlo zhi\\n\")\n",
    "a.write(\"\\n\")\n",
    "a.write(\"Masses\\n\")\n",
    "a.write(\"\\n\")\n",
    "a.write(\"1 10\\n\")\n",
    "a.write(\"2 0.1\\n\")\n",
    "a.write(\"\\n\")\n",
    "a.write(\"Atoms\\n\")\n",
    "a.write(\"\\n\")\n",
    "for i in range(0,len(large_particle)):\n",
    "    a.write(\"%d %d 1 0 %f %f %f\\n\"%(i+1,i+1,large_particle[i][0],large_particle[i][1],large_particle[i][2]))\n",
    "for j in range(0,len(small_particle)):\n",
    "    a.write(\"%d %d 2 1 %f %f %f\\n\"%(j+len(large_particle)+1,j+len(large_particle)+1,small_particle[j][0],small_particle[j][1],small_particle[j][2]))\n",
    "a.write(\"\\n\")\n",
    "#a.write(\"Bonds\\n\")\n",
    "#a.write(\"\\n\")\n",
    "#for i in range(0,len(bond_list)):\n",
    "    #a.write(\"%d 1 %d %d\\n\"%(i+1,bond_list[i][0]+1,bond_list[i][1]+1))\n",
    "    "
   ]
  },
  {
   "cell_type": "code",
   "execution_count": 8,
   "metadata": {},
   "outputs": [],
   "source": [
    "a.close()"
   ]
  },
  {
   "cell_type": "code",
   "execution_count": 9,
   "metadata": {},
   "outputs": [
    {
     "data": {
      "text/plain": [
       "4800"
      ]
     },
     "execution_count": 9,
     "metadata": {},
     "output_type": "execute_result"
    }
   ],
   "source": [
    "len(small_particle)"
   ]
  },
  {
   "cell_type": "code",
   "execution_count": 10,
   "metadata": {},
   "outputs": [
    {
     "data": {
      "text/plain": [
       "400"
      ]
     },
     "execution_count": 10,
     "metadata": {},
     "output_type": "execute_result"
    }
   ],
   "source": [
    "len(large_particle)"
   ]
  },
  {
   "cell_type": "code",
   "execution_count": null,
   "metadata": {},
   "outputs": [],
   "source": []
  }
 ],
 "metadata": {
  "kernelspec": {
   "display_name": "Python 3",
   "language": "python",
   "name": "python3"
  },
  "language_info": {
   "codemirror_mode": {
    "name": "ipython",
    "version": 3
   },
   "file_extension": ".py",
   "mimetype": "text/x-python",
   "name": "python",
   "nbconvert_exporter": "python",
   "pygments_lexer": "ipython3",
   "version": "3.7.3"
  }
 },
 "nbformat": 4,
 "nbformat_minor": 2
}
