{
 "cells": [
  {
   "cell_type": "code",
   "execution_count": 1,
   "metadata": {},
   "outputs": [],
   "source": [
    "import numpy as np"
   ]
  },
  {
   "cell_type": "code",
   "execution_count": 2,
   "metadata": {},
   "outputs": [],
   "source": [
    "a=open(\"init_solo.dat\",'w')"
   ]
  },
  {
   "cell_type": "code",
   "execution_count": 3,
   "metadata": {},
   "outputs": [
    {
     "data": {
      "text/plain": [
       "19"
      ]
     },
     "execution_count": 3,
     "metadata": {},
     "output_type": "execute_result"
    }
   ],
   "source": [
    "a.write('LAMMPS description\\n')"
   ]
  },
  {
   "cell_type": "code",
   "execution_count": 4,
   "metadata": {},
   "outputs": [],
   "source": [
    "large_particle=[]\n",
    "for i in range(0,10):\n",
    "    for j in range(0,20):\n",
    "        large_particle.append([-450+j*45,-450*np.sqrt(3)/2+i*45*np.sqrt(3),0])\n",
    "        large_particle.append([-450+j*45+45/2,-450*np.sqrt(3)/2+i*45*np.sqrt(3)+45*np.sqrt(3)/2,0])\n",
    "\n",
    "    "
   ]
  },
  {
   "cell_type": "code",
   "execution_count": 5,
   "metadata": {},
   "outputs": [
    {
     "data": {
      "text/plain": [
       "1"
      ]
     },
     "execution_count": 5,
     "metadata": {},
     "output_type": "execute_result"
    }
   ],
   "source": [
    "a.write('\\n')"
   ]
  },
  {
   "cell_type": "code",
   "execution_count": 6,
   "metadata": {},
   "outputs": [],
   "source": [
    "a.write('400 atoms\\n')\n",
    "a.write('\\n')\n",
    "a.write(\"1 atom types\\n\")\n",
    "a.write('\\n')\n",
    "a.write(\"-450 450 xlo xhi\\n\")\n",
    "a.write(\"-389.7 389.7 ylo yhi\\n\")\n",
    "a.write(\"-0.5 0.5 zlo zhi\\n\")\n",
    "a.write(\"\\n\")\n",
    "a.write(\"Masses\\n\")\n",
    "a.write(\"\\n\")\n",
    "a.write(\"1 40\\n\")\n",
    "a.write(\"\\n\")\n",
    "a.write(\"Atoms\\n\")\n",
    "a.write(\"\\n\")\n",
    "for i in range(0,400):\n",
    "    a.write(\"%d %d 1 0 %f %f %f\\n\"%(i+1,i+1,large_particle[i][0],large_particle[i][1],large_particle[i][2]))\n"
   ]
  },
  {
   "cell_type": "code",
   "execution_count": 7,
   "metadata": {},
   "outputs": [],
   "source": [
    "a.close()"
   ]
  }
 ],
 "metadata": {
  "kernelspec": {
   "display_name": "Python 3",
   "language": "python",
   "name": "python3"
  },
  "language_info": {
   "codemirror_mode": {
    "name": "ipython",
    "version": 3
   },
   "file_extension": ".py",
   "mimetype": "text/x-python",
   "name": "python",
   "nbconvert_exporter": "python",
   "pygments_lexer": "ipython3",
   "version": "3.7.3"
  }
 },
 "nbformat": 4,
 "nbformat_minor": 2
}
