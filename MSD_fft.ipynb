{
 "cells": [
  {
   "cell_type": "code",
   "execution_count": 1,
   "metadata": {},
   "outputs": [],
   "source": [
    "import numpy as np\n",
    "import pandas as pd\n",
    "import random\n",
    "import matplotlib.pyplot as plt\n",
    "import gsd.hoomd"
   ]
  },
  {
   "cell_type": "code",
   "execution_count": 2,
   "metadata": {},
   "outputs": [],
   "source": [
    "def msd_straight_forward(r):\n",
    "    shifts = np.arange(len(r))\n",
    "    msds = np.zeros(shifts.size)    \n",
    "\n",
    "    for i, shift in enumerate(shifts):\n",
    "        diffs = r[:-shift if shift else None] - r[shift:]\n",
    "        sqdist = np.square(diffs).sum(axis=1)\n",
    "        msds[i] = sqdist.mean()\n",
    "\n",
    "    return msds"
   ]
  },
  {
   "cell_type": "code",
   "execution_count": 3,
   "metadata": {},
   "outputs": [],
   "source": [
    "r = np.cumsum(np.random.choice([-1., 0., 1.], size=(10000, 3)), axis=0)\n"
   ]
  },
  {
   "cell_type": "code",
   "execution_count": 4,
   "metadata": {},
   "outputs": [],
   "source": [
    "def autocorrFFT(x):\n",
    "      N=len(x)\n",
    "      F = np.fft.fft(x, n=2*N)  #2*N because of zero-padding\n",
    "      PSD = F * F.conjugate()\n",
    "      res = np.fft.ifft(PSD)\n",
    "      res= (res[:N]).real   #now we have the autocorrelation in convention B\n",
    "      n=N*np.ones(N)-np.arange(0,N) #divide res(m) by (N-m)\n",
    "      return res/n #this is the autocorrelation in convention A"
   ]
  },
  {
   "cell_type": "code",
   "execution_count": 5,
   "metadata": {},
   "outputs": [
    {
     "data": {
      "text/plain": [
       "array([225.       +0.j, 145.2820323+0.j,  36.       +0.j,  13.       +0.j,\n",
       "        12.       +0.j,   6.7179677+0.j,   9.       +0.j,   6.7179677+0.j,\n",
       "        12.       +0.j,  13.       +0.j,  36.       +0.j, 145.2820323+0.j])"
      ]
     },
     "execution_count": 5,
     "metadata": {},
     "output_type": "execute_result"
    }
   ],
   "source": [
    "x=[0,1,2,3,4,5]\n",
    "N=len(x)\n",
    "F=np.fft.fft(x, n=2*N)\n",
    "F * F.conjugate()\n"
   ]
  },
  {
   "cell_type": "code",
   "execution_count": 6,
   "metadata": {},
   "outputs": [],
   "source": [
    "def msd_fft(r):\n",
    "    N=len(r)\n",
    "    D=np.square(r).sum(axis=1) \n",
    "    D=np.append(D,0) \n",
    "    S2=sum([autocorrFFT(r[:, i]) for i in range(r.shape[1])])\n",
    "    Q=2*D.sum()\n",
    "    S1=np.zeros(N)\n",
    "    for m in range(N):\n",
    "        Q=Q-D[m-1]-D[N-m]\n",
    "        S1[m]=Q/(N-m)\n",
    "    return S1-2*S2"
   ]
  },
  {
   "cell_type": "code",
   "execution_count": 7,
   "metadata": {},
   "outputs": [],
   "source": [
    "msd=msd_fft(r)"
   ]
  },
  {
   "cell_type": "code",
   "execution_count": null,
   "metadata": {},
   "outputs": [],
   "source": []
  },
  {
   "cell_type": "code",
   "execution_count": 8,
   "metadata": {},
   "outputs": [
    {
     "data": {
      "text/plain": [
       "array([[   0.,    0.,    1.],\n",
       "       [   0.,   -1.,    1.],\n",
       "       [   0.,    0.,    2.],\n",
       "       ...,\n",
       "       [-117.,  -29.,  130.],\n",
       "       [-117.,  -28.,  129.],\n",
       "       [-118.,  -28.,  130.]])"
      ]
     },
     "execution_count": 8,
     "metadata": {},
     "output_type": "execute_result"
    }
   ],
   "source": [
    "r"
   ]
  },
  {
   "cell_type": "code",
   "execution_count": 9,
   "metadata": {},
   "outputs": [
    {
     "data": {
      "text/plain": [
       "[<matplotlib.lines.Line2D at 0x7f567ac54d68>]"
      ]
     },
     "execution_count": 9,
     "metadata": {},
     "output_type": "execute_result"
    },
    {
     "data": {
      "image/png": "[encoded data removed]",
      "text/plain": [
       "<Figure size 432x288 with 1 Axes>"
      ]
     },
     "metadata": {
      "needs_background": "light"
     },
     "output_type": "display_data"
    }
   ],
   "source": [
    "plt.plot(msd)"
   ]
  },
  {
   "cell_type": "code",
   "execution_count": 10,
   "metadata": {},
   "outputs": [],
   "source": [
    "r = np.cumsum(np.random.choice([-1., 0., 1.], size=(10000, 3)), axis=0)\n",
    "msd=msd_fft(r)\n",
    "for i in range(0,100):\n",
    "    r = np.cumsum(np.random.choice([-1., 0., 1.], size=(10000, 3)), axis=0)\n",
    "    msd=msd+msd_fft(r)"
   ]
  },
  {
   "cell_type": "code",
   "execution_count": 11,
   "metadata": {},
   "outputs": [
    {
     "data": {
      "text/plain": [
       "[<matplotlib.lines.Line2D at 0x7f567abf4a90>]"
      ]
     },
     "execution_count": 11,
     "metadata": {},
     "output_type": "execute_result"
    },
    {
     "data": {
      "image/png": "[encoded data removed]",
      "text/plain": [
       "<Figure size 432x288 with 1 Axes>"
      ]
     },
     "metadata": {
      "needs_background": "light"
     },
     "output_type": "display_data"
    }
   ],
   "source": [
    "plt.plot(msd)"
   ]
  },
  {
   "cell_type": "code",
   "execution_count": 12,
   "metadata": {},
   "outputs": [],
   "source": [
    "def unwrap(box,trajectory):\n",
    "    step_number=trajectory.shape[0]\n",
    "    Lx=box[0]\n",
    "    Ly=box[1]\n",
    "    Lz=box[2]\n",
    "    new_trajectory=np.zeros(trajectory.shape)\n",
    "    new_trajectory[0]=trajectory[0]\n",
    "    for i in range(1,step_number):\n",
    "        movement=trajectory[i]-trajectory[i-1]\n",
    "        if movement[0]<-Lx/2:\n",
    "            movement[0]+=Lx\n",
    "        if movement[0]>Lx/2:\n",
    "            movement[0]-=Lx\n",
    "        if movement[1]<-Ly/2:\n",
    "            movement[1]+=Ly\n",
    "        if movement[1]>Ly/2:\n",
    "            movement[1]-=Ly            \n",
    "        if movement[2]<-Lz/2:\n",
    "            movement[2]+=Lz\n",
    "        if movement[2]>Lz/2:\n",
    "            movement[2]-=Lz\n",
    "        new_trajectory[i]=new_trajectory[i-1]+movement\n",
    "    return new_trajectory"
   ]
  },
  {
   "cell_type": "code",
   "execution_count": 13,
   "metadata": {},
   "outputs": [],
   "source": [
    "class traj:\n",
    "    def __init__(self, box_size, positions,velocities,types):\n",
    "        self.box_size =box_size\n",
    "        self.positions=positions\n",
    "        self.velocities=velocities\n",
    "        self.types=types\n",
    "        \n"
   ]
  },
  {
   "cell_type": "code",
   "execution_count": 14,
   "metadata": {},
   "outputs": [],
   "source": [
    "def read_lammpstrj(filename,N_particles):\n",
    "    f=open(filename)\n",
    "    Lines=f.readlines()\n",
    "    n_timestep=int(len(Lines)/(N_particles+9))\n",
    "    box_size=np.zeros((n_timestep,3))\n",
    "    positions=np.zeros((n_timestep,N_particles,3))\n",
    "    velocities=np.zeros((n_timestep,N_particles,3))\n",
    "    types=np.zeros((n_timestep,N_particles))\n",
    "    count = 0\n",
    "\n",
    "    for line in Lines:\n",
    "        n_t=int(count/(N_particles+9))\n",
    "        separate=line.split()\n",
    "        if count%(9+N_particles)==5:\n",
    "            box_size[n_t][0]=float(separate[1])-float(separate[0])\n",
    "        if count%(9+N_particles)==6:\n",
    "            box_size[n_t][1]=float(separate[1])-float(separate[0])\n",
    "        if count%(9+N_particles)==7:\n",
    "            box_size[n_t][2]=float(separate[1])-float(separate[0])\n",
    "        if count%(9+N_particles)>=9:\n",
    "            n_p=int(separate[0])-1\n",
    "            types[n_t][n_p]=float(separate[1])\n",
    "            positions[n_t][n_p][0]=float(separate[3])\n",
    "            positions[n_t][n_p][1]=float(separate[4])\n",
    "            positions[n_t][n_p][2]=float(separate[5])\n",
    "            velocities[n_t][n_p][0]=float(separate[6])\n",
    "            velocities[n_t][n_p][1]=float(separate[7])\n",
    "            velocities[n_t][n_p][2]=float(separate[8])\n",
    "        count+=1\n",
    "    return traj(box_size=box_size,positions=positions,velocities=velocities,types=types)"
   ]
  },
  {
   "cell_type": "code",
   "execution_count": 13,
   "metadata": {},
   "outputs": [
    {
     "data": {
      "text/plain": [
       "array([[-179.62419   ,  344.34656   ,    0.        ],\n",
       "       [   0.56262726,  361.20142   ,    0.        ],\n",
       "       [-130.1068    ,  323.88437   ,    0.        ],\n",
       "       ...,\n",
       "       [-222.64186   ,  370.18936   ,    0.        ],\n",
       "       [-185.41194   ,  321.25714   ,    0.        ],\n",
       "       [-241.13515   ,  330.9375    ,    0.        ]], dtype=float32)"
      ]
     },
     "execution_count": 13,
     "metadata": {},
     "output_type": "execute_result"
    }
   ],
   "source": [
    "a[1].particles.position"
   ]
  },
  {
   "cell_type": "code",
   "execution_count": 15,
   "metadata": {},
   "outputs": [],
   "source": [
    "a=read_lammpstrj('electric_field_langevin_large_small_att_eq.1.lammpstrj',5200)"
   ]
  },
  {
   "cell_type": "code",
   "execution_count": 16,
   "metadata": {},
   "outputs": [],
   "source": [
    "positions=a.positions"
   ]
  },
  {
   "cell_type": "code",
   "execution_count": 18,
   "metadata": {},
   "outputs": [],
   "source": [
    "positions=np.swapaxes(positions,0,1)"
   ]
  },
  {
   "cell_type": "code",
   "execution_count": 19,
   "metadata": {},
   "outputs": [],
   "source": [
    "psmall=positions[400:5200]"
   ]
  },
  {
   "cell_type": "code",
   "execution_count": 22,
   "metadata": {},
   "outputs": [],
   "source": [
    "box=a.box_size[0]"
   ]
  },
  {
   "cell_type": "code",
   "execution_count": 23,
   "metadata": {},
   "outputs": [
    {
     "data": {
      "text/plain": [
       "array([900. , 779.4,   1. ])"
      ]
     },
     "execution_count": 23,
     "metadata": {},
     "output_type": "execute_result"
    }
   ],
   "source": [
    "box"
   ]
  },
  {
   "cell_type": "code",
   "execution_count": 25,
   "metadata": {},
   "outputs": [],
   "source": [
    "msd=0\n",
    "for i in psmall:\n",
    "    unwraped=unwrap(box,i)\n",
    "    msd=msd+msd_fft(unwraped)"
   ]
  },
  {
   "cell_type": "code",
   "execution_count": null,
   "metadata": {},
   "outputs": [],
   "source": [
    "for m in range(1,10):\n",
    "    positions=[]\n",
    "    for i in range(m*2000-1800,m*2000):\n",
    "        position=a[i].particles.position\n",
    "        positions.append(position)\n",
    "    parray=np.array(positions)\n",
    "    vlarge=varray[:,0::13,:]\n",
    "    vlarge=np.swapaxes(vlarge,0,1)\n",
    "    i=vlarge[1,:,0]\n",
    "    N=len(i)\n",
    "    F = np.fft.fft(i, n=2*N)  #2*N because of zero-padding\n",
    "    PSD = F * F.conjugate()\n",
    "    PSD_sum=PSD.real\n",
    "    for j in range(0,3):\n",
    "        for i in vlarge:\n",
    "            N=len(i[:,j])\n",
    "            F = np.fft.fft(i[:,j], n=2*N)  #2*N because of zero-padding\n",
    "            PSD = F * F.conjugate()\n",
    "            PSD_sum+=PSD.real\n",
    "    plt.plot(PSD_sum[0:1800]/m,label='T_%f'%(m*0.05))\n",
    "\n",
    "    plt.xlabel('frequency')\n",
    "    plt.ylabel('Density of states')\n",
    "    plt.legend()\n",
    "    plt.savefig('T_large_%f.png'%(m*0.05))"
   ]
  },
  {
   "cell_type": "code",
   "execution_count": 60,
   "metadata": {},
   "outputs": [],
   "source": [
    "positions=[]\n",
    "for i in range(6*2000-1800,6*2000):\n",
    "        position=a[i].particles.position\n",
    "        positions.append(position)\n",
    "parray=np.array(positions)"
   ]
  },
  {
   "cell_type": "code",
   "execution_count": 61,
   "metadata": {},
   "outputs": [
    {
     "data": {
      "text/plain": [
       "(1800, 5200, 3)"
      ]
     },
     "execution_count": 61,
     "metadata": {},
     "output_type": "execute_result"
    }
   ],
   "source": [
    "parray.shape"
   ]
  },
  {
   "cell_type": "code",
   "execution_count": 62,
   "metadata": {},
   "outputs": [],
   "source": [
    "plarge=parray[:,0::13,:]\n"
   ]
  },
  {
   "cell_type": "code",
   "execution_count": 63,
   "metadata": {},
   "outputs": [],
   "source": [
    "plarge=np.swapaxes(plarge,0,1)\n"
   ]
  },
  {
   "cell_type": "code",
   "execution_count": 64,
   "metadata": {},
   "outputs": [],
   "source": [
    "box=a[1].configuration.box[0:3]"
   ]
  },
  {
   "cell_type": "code",
   "execution_count": 65,
   "metadata": {},
   "outputs": [
    {
     "data": {
      "text/plain": [
       "array([865.5863, 749.5619,   1.    ], dtype=float32)"
      ]
     },
     "execution_count": 65,
     "metadata": {},
     "output_type": "execute_result"
    }
   ],
   "source": [
    "box"
   ]
  },
  {
   "cell_type": "code",
   "execution_count": 66,
   "metadata": {},
   "outputs": [],
   "source": [
    "unwraped=unwrap(box,plarge[1])\n",
    "msd=msd_fft(unwraped)"
   ]
  },
  {
   "cell_type": "code",
   "execution_count": 67,
   "metadata": {},
   "outputs": [],
   "source": [
    "\n",
    "for i in plarge:\n",
    "    unwraped=unwrap(box,i)\n",
    "    msd=msd+msd_fft(unwraped)"
   ]
  },
  {
   "cell_type": "code",
   "execution_count": 26,
   "metadata": {},
   "outputs": [
    {
     "data": {
      "text/plain": [
       "[<matplotlib.lines.Line2D at 0x7f55ec7d1518>]"
      ]
     },
     "execution_count": 26,
     "metadata": {},
     "output_type": "execute_result"
    },
    {
     "data": {
      "image/png": "[encoded data removed]",
      "text/plain": [
       "<Figure size 432x288 with 1 Axes>"
      ]
     },
     "metadata": {
      "needs_background": "light"
     },
     "output_type": "display_data"
    }
   ],
   "source": [
    "plt.plot(msd)\n"
   ]
  },
  {
   "cell_type": "code",
   "execution_count": 28,
   "metadata": {},
   "outputs": [
    {
     "data": {
      "text/plain": [
       "(4001,)"
      ]
     },
     "execution_count": 28,
     "metadata": {},
     "output_type": "execute_result"
    }
   ],
   "source": [
    "msd.shape"
   ]
  },
  {
   "cell_type": "code",
   "execution_count": 32,
   "metadata": {},
   "outputs": [],
   "source": [
    "time=np.array([0.25*i for i in range(0,4001)])"
   ]
  },
  {
   "cell_type": "code",
   "execution_count": 33,
   "metadata": {},
   "outputs": [
    {
     "data": {
      "text/plain": [
       "(4001,)"
      ]
     },
     "execution_count": 33,
     "metadata": {},
     "output_type": "execute_result"
    }
   ],
   "source": [
    "time.shape"
   ]
  },
  {
   "cell_type": "code",
   "execution_count": 45,
   "metadata": {},
   "outputs": [
    {
     "data": {
      "text/plain": [
       "array([ 1.10459445e+05,  5.71882280e+03, -1.47740177e-01])"
      ]
     },
     "execution_count": 45,
     "metadata": {},
     "output_type": "execute_result"
    }
   ],
   "source": [
    "np.polynomial.polynomial.polyfit(time[1000:3000],msd[1000:3000],deg=2)"
   ]
  },
  {
   "cell_type": "code",
   "execution_count": 59,
   "metadata": {},
   "outputs": [
    {
     "data": {
      "text/plain": [
       "(4800, 1800, 3)"
      ]
     },
     "execution_count": 59,
     "metadata": {},
     "output_type": "execute_result"
    }
   ],
   "source": [
    "psmall.shape"
   ]
  },
  {
   "cell_type": "code",
   "execution_count": 71,
   "metadata": {},
   "outputs": [
    {
     "data": {
      "text/plain": [
       "array([[-248.08570862,  299.29629517,    0.        ],\n",
       "       [-248.51646423,  299.18835449,    0.        ],\n",
       "       [-248.87408447,  299.06890869,    0.        ],\n",
       "       ...,\n",
       "       [-242.92401123,  297.49978638,    0.        ],\n",
       "       [-243.05258179,  297.27890015,    0.        ],\n",
       "       [-243.21612549,  297.05145264,    0.        ]])"
      ]
     },
     "execution_count": 71,
     "metadata": {},
     "output_type": "execute_result"
    }
   ],
   "source": [
    "hexagonal_spring1.5.lammpstrjunwraped"
   ]
  },
  {
   "cell_type": "code",
   "execution_count": null,
   "metadata": {},
   "outputs": [],
   "source": []
  }
 ],
 "metadata": {
  "kernelspec": {
   "display_name": "Python 3",
   "language": "python",
   "name": "python3"
  },
  "language_info": {
   "codemirror_mode": {
    "name": "ipython",
    "version": 3
   },
   "file_extension": ".py",
   "mimetype": "text/x-python",
   "name": "python",
   "nbconvert_exporter": "python",
   "pygments_lexer": "ipython3",
   "version": "3.7.3"
  }
 },
 "nbformat": 4,
 "nbformat_minor": 2
}
