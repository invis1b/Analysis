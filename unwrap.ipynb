{
 "cells": [
  {
   "cell_type": "code",
   "execution_count": 1,
   "metadata": {},
   "outputs": [],
   "source": [
    "import numpy as np\n",
    "import pandas as pd"
   ]
  },
  {
   "cell_type": "code",
   "execution_count": null,
   "metadata": {},
   "outputs": [],
   "source": [
    "def unwrap(box,trajectory):\n",
    "    step_number=trajectory.shape[0]\n",
    "    Lx=box[0]\n",
    "    Ly=box[1]\n",
    "    Lz=box[2]\n",
    "    new_trajectory=np.zeros(trajectory.shape)\n",
    "    new_trajectory[0]=trajectory[0]\n",
    "    for i in range(1,step_number):\n",
    "        movement=trajectory[i]-trajectory[i-1]\n",
    "        if movement[0]<-Lx/2:\n",
    "            movement[0]+=Lx\n",
    "        if movement[0]>Lx/2:\n",
    "            movement[0]-=Lx\n",
    "        if movement[1]<-Ly/2:\n",
    "            movement[1]+=Ly\n",
    "        if movement[1]>Ly/2:\n",
    "            movement[1]-=Ly            \n",
    "        if movement[2]<-Lz/2:\n",
    "            movement[2]+=Lz\n",
    "        if movement[2]>Lz/2:\n",
    "            movement[2]-=Lz\n",
    "        new_trajectory[i]=new_trajectory[i-1]+movement"
   ]
  },
  {
   "cell_type": "code",
   "execution_count": 2,
   "metadata": {},
   "outputs": [],
   "source": [
    "a=np.array([[1,2],[2,3],[3,4]])"
   ]
  },
  {
   "cell_type": "code",
   "execution_count": 4,
   "metadata": {},
   "outputs": [
    {
     "data": {
      "text/plain": [
       "2"
      ]
     },
     "execution_count": 4,
     "metadata": {},
     "output_type": "execute_result"
    }
   ],
   "source": [
    "a.shape[1]"
   ]
  },
  {
   "cell_type": "code",
   "execution_count": null,
   "metadata": {},
   "outputs": [],
   "source": []
  }
 ],
 "metadata": {
  "kernelspec": {
   "display_name": "Python 3",
   "language": "python",
   "name": "python3"
  },
  "language_info": {
   "codemirror_mode": {
    "name": "ipython",
    "version": 3
   },
   "file_extension": ".py",
   "mimetype": "text/x-python",
   "name": "python",
   "nbconvert_exporter": "python",
   "pygments_lexer": "ipython3",
   "version": "3.7.3"
  }
 },
 "nbformat": 4,
 "nbformat_minor": 2
}
