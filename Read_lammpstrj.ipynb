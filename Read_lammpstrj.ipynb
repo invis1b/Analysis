{
 "cells": [
  {
   "cell_type": "code",
   "execution_count": 92,
   "metadata": {},
   "outputs": [],
   "source": [
    "import numpy as np\n",
    "import sys\n",
    "import matplotlib.pyplot as plt\n",
    "\n"
   ]
  },
  {
   "cell_type": "code",
   "execution_count": 93,
   "metadata": {},
   "outputs": [],
   "source": [
    "class traj:\n",
    "    def __init__(self, box_size, positions,velocities,types):\n",
    "        self.box_size =box_size\n",
    "        self.positions=positions\n",
    "        self.velocities=velocities\n",
    "        self.types=types\n",
    "        \n"
   ]
  },
  {
   "cell_type": "code",
   "execution_count": 94,
   "metadata": {},
   "outputs": [],
   "source": [
    "a=traj(box_size=1,positions=1,velocities=1,types=1)"
   ]
  },
  {
   "cell_type": "code",
   "execution_count": 95,
   "metadata": {},
   "outputs": [],
   "source": [
    "def read_lammpstrj(filename,N_particles,N_start,N_end):\n",
    "    n_timestep=N_end-N_start\n",
    "    box_size=np.zeros((n_timestep+1,3))\n",
    "    positions=np.zeros((n_timestep+1,N_particles,3))\n",
    "    velocities=np.zeros((n_timestep+1,N_particles,3))\n",
    "    types=np.zeros((n_timestep+1,N_particles))\n",
    "    count = 0\n",
    "\n",
    "    with open(filename, 'rb') as f:\n",
    "        for line in f:\n",
    "            n_t=int(count/(N_particles+9))\n",
    "            if n_t<N_start:\n",
    "                count+=1\n",
    "                continue\n",
    "            if n_t>N_end:\n",
    "                  break\n",
    "            separate=line.split()\n",
    "            if count%(9+N_particles)==5:\n",
    "                box_size[n_t-N_start][0]=float(separate[1])-float(separate[0])\n",
    "            if count%(9+N_particles)==6:\n",
    "                box_size[n_t-N_start][1]=float(separate[1])-float(separate[0])\n",
    "            if count%(9+N_particles)==7:\n",
    "                box_size[n_t-N_start][2]=float(separate[1])-float(separate[0])\n",
    "            if count%(9+N_particles)>=9:\n",
    "                n_p=int(separate[0])-1\n",
    "                types[n_t-N_start][n_p]=float(separate[1])\n",
    "                positions[n_t-N_start][n_p][0]=float(separate[3])\n",
    "                positions[n_t-N_start][n_p][1]=float(separate[4])\n",
    "                positions[n_t-N_start][n_p][2]=float(separate[5])\n",
    "                velocities[n_t-N_start][n_p][0]=float(separate[6])\n",
    "                velocities[n_t-N_start][n_p][1]=float(separate[7])\n",
    "                velocities[n_t-N_start][n_p][2]=float(separate[8])\n",
    "            count+=1\n",
    "    return traj(box_size=box_size,positions=positions,velocities=velocities,types=types)"
   ]
  },
  {
   "cell_type": "code",
   "execution_count": 98,
   "metadata": {},
   "outputs": [],
   "source": [
    "a=read_lammpstrj('electric_field_langevin_large_small_att10.0.lammpstrj',5200,400,4400)"
   ]
  },
  {
   "cell_type": "code",
   "execution_count": 99,
   "metadata": {},
   "outputs": [],
   "source": [
    "positions=a.positions"
   ]
  },
  {
   "cell_type": "code",
   "execution_count": 106,
   "metadata": {},
   "outputs": [],
   "source": [
    "small_positions=a.positions[:,400:5200,0:2]"
   ]
  },
  {
   "cell_type": "code",
   "execution_count": 108,
   "metadata": {},
   "outputs": [],
   "source": [
    "large_positions=a.positions[:,0:400,0:2]"
   ]
  },
  {
   "cell_type": "code",
   "execution_count": 100,
   "metadata": {},
   "outputs": [],
   "source": [
    "velocities=a.velocities"
   ]
  },
  {
   "cell_type": "code",
   "execution_count": 109,
   "metadata": {},
   "outputs": [],
   "source": [
    "small_velocities=velocities[:,400:5200,0:2]\n",
    "large_positions=velocities[:,400:5200,0:2]"
   ]
  },
  {
   "cell_type": "code",
   "execution_count": 101,
   "metadata": {},
   "outputs": [],
   "source": [
    "box_size=a.box_size"
   ]
  },
  {
   "cell_type": "code",
   "execution_count": 111,
   "metadata": {},
   "outputs": [],
   "source": [
    "bin_size=10\n",
    "bin_number=box_size/bin_size"
   ]
  },
  {
   "cell_type": "code",
   "execution_count": 112,
   "metadata": {},
   "outputs": [
    {
     "data": {
      "text/plain": [
       "array([[90.  , 77.94,  0.1 ],\n",
       "       [90.  , 77.94,  0.1 ],\n",
       "       [90.  , 77.94,  0.1 ],\n",
       "       ...,\n",
       "       [90.  , 77.94,  0.1 ],\n",
       "       [90.  , 77.94,  0.1 ],\n",
       "       [90.  , 77.94,  0.1 ]])"
      ]
     },
     "execution_count": 112,
     "metadata": {},
     "output_type": "execute_result"
    }
   ],
   "source": [
    "bin_number"
   ]
  },
  {
   "cell_type": "code",
   "execution_count": 110,
   "metadata": {},
   "outputs": [
    {
     "data": {
      "text/plain": [
       "array([[-351.44 , -366.482],\n",
       "       [-132.438, -367.051],\n",
       "       [-369.575, -367.905],\n",
       "       ...,\n",
       "       [-271.558,  334.58 ],\n",
       "       [ 294.7  ,  297.062],\n",
       "       [ 110.88 ,  370.944]])"
      ]
     },
     "execution_count": 110,
     "metadata": {},
     "output_type": "execute_result"
    }
   ],
   "source": [
    "small_positions[3000]"
   ]
  },
  {
   "cell_type": "code",
   "execution_count": 113,
   "metadata": {},
   "outputs": [
    {
     "data": {
      "text/plain": [
       "(array([[ 0., 18.,  3., ...,  0.,  0.,  0.],\n",
       "        [ 0., 15., 12., ...,  0.,  0.,  0.],\n",
       "        [ 3., 17.,  2., ...,  0.,  0.,  0.],\n",
       "        ...,\n",
       "        [ 0., 12.,  3., ...,  0.,  0.,  0.],\n",
       "        [ 9., 17.,  0., ...,  0.,  0.,  0.],\n",
       "        [10., 17.,  1., ...,  0.,  0.,  0.]]),\n",
       " array([-4.49950000e+02, -4.39950778e+02, -4.29951556e+02, -4.19952333e+02,\n",
       "        -4.09953111e+02, -3.99953889e+02, -3.89954667e+02, -3.79955444e+02,\n",
       "        -3.69956222e+02, -3.59957000e+02, -3.49957778e+02, -3.39958556e+02,\n",
       "        -3.29959333e+02, -3.19960111e+02, -3.09960889e+02, -2.99961667e+02,\n",
       "        -2.89962444e+02, -2.79963222e+02, -2.69964000e+02, -2.59964778e+02,\n",
       "        -2.49965556e+02, -2.39966333e+02, -2.29967111e+02, -2.19967889e+02,\n",
       "        -2.09968667e+02, -1.99969444e+02, -1.89970222e+02, -1.79971000e+02,\n",
       "        -1.69971778e+02, -1.59972556e+02, -1.49973333e+02, -1.39974111e+02,\n",
       "        -1.29974889e+02, -1.19975667e+02, -1.09976444e+02, -9.99772222e+01,\n",
       "        -8.99780000e+01, -7.99787778e+01, -6.99795556e+01, -5.99803333e+01,\n",
       "        -4.99811111e+01, -3.99818889e+01, -2.99826667e+01, -1.99834444e+01,\n",
       "        -9.98422222e+00,  1.50000000e-02,  1.00142222e+01,  2.00134444e+01,\n",
       "         3.00126667e+01,  4.00118889e+01,  5.00111111e+01,  6.00103333e+01,\n",
       "         7.00095556e+01,  8.00087778e+01,  9.00080000e+01,  1.00007222e+02,\n",
       "         1.10006444e+02,  1.20005667e+02,  1.30004889e+02,  1.40004111e+02,\n",
       "         1.50003333e+02,  1.60002556e+02,  1.70001778e+02,  1.80001000e+02,\n",
       "         1.90000222e+02,  1.99999444e+02,  2.09998667e+02,  2.19997889e+02,\n",
       "         2.29997111e+02,  2.39996333e+02,  2.49995556e+02,  2.59994778e+02,\n",
       "         2.69994000e+02,  2.79993222e+02,  2.89992444e+02,  2.99991667e+02,\n",
       "         3.09990889e+02,  3.19990111e+02,  3.29989333e+02,  3.39988556e+02,\n",
       "         3.49987778e+02,  3.59987000e+02,  3.69986222e+02,  3.79985444e+02,\n",
       "         3.89984667e+02,  3.99983889e+02,  4.09983111e+02,  4.19982333e+02,\n",
       "         4.29981556e+02,  4.39980778e+02,  4.49980000e+02]),\n",
       " array([-384.436     , -374.62175641, -364.80751282, -354.99326923,\n",
       "        -345.17902564, -335.36478205, -325.55053846, -315.73629487,\n",
       "        -305.92205128, -296.10780769, -286.2935641 , -276.47932051,\n",
       "        -266.66507692, -256.85083333, -247.03658974, -237.22234615,\n",
       "        -227.40810256, -217.59385897, -207.77961538, -197.96537179,\n",
       "        -188.15112821, -178.33688462, -168.52264103, -158.70839744,\n",
       "        -148.89415385, -139.07991026, -129.26566667, -119.45142308,\n",
       "        -109.63717949,  -99.8229359 ,  -90.00869231,  -80.19444872,\n",
       "         -70.38020513,  -60.56596154,  -50.75171795,  -40.93747436,\n",
       "         -31.12323077,  -21.30898718,  -11.49474359,   -1.6805    ,\n",
       "           8.13374359,   17.94798718,   27.76223077,   37.57647436,\n",
       "          47.39071795,   57.20496154,   67.01920513,   76.83344872,\n",
       "          86.64769231,   96.4619359 ,  106.27617949,  116.09042308,\n",
       "         125.90466667,  135.71891026,  145.53315385,  155.34739744,\n",
       "         165.16164103,  174.97588462,  184.79012821,  194.60437179,\n",
       "         204.41861538,  214.23285897,  224.04710256,  233.86134615,\n",
       "         243.67558974,  253.48983333,  263.30407692,  273.11832051,\n",
       "         282.9325641 ,  292.74680769,  302.56105128,  312.37529487,\n",
       "         322.18953846,  332.00378205,  341.81802564,  351.63226923,\n",
       "         361.44651282,  371.26075641,  381.075     ]))"
      ]
     },
     "execution_count": 113,
     "metadata": {},
     "output_type": "execute_result"
    }
   ],
   "source": [
    "np.histogram2d(small_positions[3000,:,0],small_positions[3000,:,1],bins=[90,78])"
   ]
  },
  {
   "cell_type": "code",
   "execution_count": 115,
   "metadata": {},
   "outputs": [
    {
     "data": {
      "text/plain": [
       "(array([[0., 0., 5., ..., 0., 0., 0.],\n",
       "        [0., 0., 4., ..., 0., 0., 0.],\n",
       "        [0., 0., 2., ..., 0., 0., 0.],\n",
       "        ...,\n",
       "        [2., 5., 5., ..., 0., 0., 0.],\n",
       "        [3., 5., 4., ..., 0., 0., 0.],\n",
       "        [0., 2., 5., ..., 0., 0., 0.]]),\n",
       " array([-4.49950000e+02, -4.44950389e+02, -4.39950778e+02, -4.34951167e+02,\n",
       "        -4.29951556e+02, -4.24951944e+02, -4.19952333e+02, -4.14952722e+02,\n",
       "        -4.09953111e+02, -4.04953500e+02, -3.99953889e+02, -3.94954278e+02,\n",
       "        -3.89954667e+02, -3.84955056e+02, -3.79955444e+02, -3.74955833e+02,\n",
       "        -3.69956222e+02, -3.64956611e+02, -3.59957000e+02, -3.54957389e+02,\n",
       "        -3.49957778e+02, -3.44958167e+02, -3.39958556e+02, -3.34958944e+02,\n",
       "        -3.29959333e+02, -3.24959722e+02, -3.19960111e+02, -3.14960500e+02,\n",
       "        -3.09960889e+02, -3.04961278e+02, -2.99961667e+02, -2.94962056e+02,\n",
       "        -2.89962444e+02, -2.84962833e+02, -2.79963222e+02, -2.74963611e+02,\n",
       "        -2.69964000e+02, -2.64964389e+02, -2.59964778e+02, -2.54965167e+02,\n",
       "        -2.49965556e+02, -2.44965944e+02, -2.39966333e+02, -2.34966722e+02,\n",
       "        -2.29967111e+02, -2.24967500e+02, -2.19967889e+02, -2.14968278e+02,\n",
       "        -2.09968667e+02, -2.04969056e+02, -1.99969444e+02, -1.94969833e+02,\n",
       "        -1.89970222e+02, -1.84970611e+02, -1.79971000e+02, -1.74971389e+02,\n",
       "        -1.69971778e+02, -1.64972167e+02, -1.59972556e+02, -1.54972944e+02,\n",
       "        -1.49973333e+02, -1.44973722e+02, -1.39974111e+02, -1.34974500e+02,\n",
       "        -1.29974889e+02, -1.24975278e+02, -1.19975667e+02, -1.14976056e+02,\n",
       "        -1.09976444e+02, -1.04976833e+02, -9.99772222e+01, -9.49776111e+01,\n",
       "        -8.99780000e+01, -8.49783889e+01, -7.99787778e+01, -7.49791667e+01,\n",
       "        -6.99795556e+01, -6.49799444e+01, -5.99803333e+01, -5.49807222e+01,\n",
       "        -4.99811111e+01, -4.49815000e+01, -3.99818889e+01, -3.49822778e+01,\n",
       "        -2.99826667e+01, -2.49830556e+01, -1.99834444e+01, -1.49838333e+01,\n",
       "        -9.98422222e+00, -4.98461111e+00,  1.50000000e-02,  5.01461111e+00,\n",
       "         1.00142222e+01,  1.50138333e+01,  2.00134444e+01,  2.50130556e+01,\n",
       "         3.00126667e+01,  3.50122778e+01,  4.00118889e+01,  4.50115000e+01,\n",
       "         5.00111111e+01,  5.50107222e+01,  6.00103333e+01,  6.50099444e+01,\n",
       "         7.00095556e+01,  7.50091667e+01,  8.00087778e+01,  8.50083889e+01,\n",
       "         9.00080000e+01,  9.50076111e+01,  1.00007222e+02,  1.05006833e+02,\n",
       "         1.10006444e+02,  1.15006056e+02,  1.20005667e+02,  1.25005278e+02,\n",
       "         1.30004889e+02,  1.35004500e+02,  1.40004111e+02,  1.45003722e+02,\n",
       "         1.50003333e+02,  1.55002944e+02,  1.60002556e+02,  1.65002167e+02,\n",
       "         1.70001778e+02,  1.75001389e+02,  1.80001000e+02,  1.85000611e+02,\n",
       "         1.90000222e+02,  1.94999833e+02,  1.99999444e+02,  2.04999056e+02,\n",
       "         2.09998667e+02,  2.14998278e+02,  2.19997889e+02,  2.24997500e+02,\n",
       "         2.29997111e+02,  2.34996722e+02,  2.39996333e+02,  2.44995944e+02,\n",
       "         2.49995556e+02,  2.54995167e+02,  2.59994778e+02,  2.64994389e+02,\n",
       "         2.69994000e+02,  2.74993611e+02,  2.79993222e+02,  2.84992833e+02,\n",
       "         2.89992444e+02,  2.94992056e+02,  2.99991667e+02,  3.04991278e+02,\n",
       "         3.09990889e+02,  3.14990500e+02,  3.19990111e+02,  3.24989722e+02,\n",
       "         3.29989333e+02,  3.34988944e+02,  3.39988556e+02,  3.44988167e+02,\n",
       "         3.49987778e+02,  3.54987389e+02,  3.59987000e+02,  3.64986611e+02,\n",
       "         3.69986222e+02,  3.74985833e+02,  3.79985444e+02,  3.84985056e+02,\n",
       "         3.89984667e+02,  3.94984278e+02,  3.99983889e+02,  4.04983500e+02,\n",
       "         4.09983111e+02,  4.14982722e+02,  4.19982333e+02,  4.24981944e+02,\n",
       "         4.29981556e+02,  4.34981167e+02,  4.39980778e+02,  4.44980389e+02,\n",
       "         4.49980000e+02]),\n",
       " array([-384.436     , -379.52887821, -374.62175641, -369.71463462,\n",
       "        -364.80751282, -359.90039103, -354.99326923, -350.08614744,\n",
       "        -345.17902564, -340.27190385, -335.36478205, -330.45766026,\n",
       "        -325.55053846, -320.64341667, -315.73629487, -310.82917308,\n",
       "        -305.92205128, -301.01492949, -296.10780769, -291.2006859 ,\n",
       "        -286.2935641 , -281.38644231, -276.47932051, -271.57219872,\n",
       "        -266.66507692, -261.75795513, -256.85083333, -251.94371154,\n",
       "        -247.03658974, -242.12946795, -237.22234615, -232.31522436,\n",
       "        -227.40810256, -222.50098077, -217.59385897, -212.68673718,\n",
       "        -207.77961538, -202.87249359, -197.96537179, -193.05825   ,\n",
       "        -188.15112821, -183.24400641, -178.33688462, -173.42976282,\n",
       "        -168.52264103, -163.61551923, -158.70839744, -153.80127564,\n",
       "        -148.89415385, -143.98703205, -139.07991026, -134.17278846,\n",
       "        -129.26566667, -124.35854487, -119.45142308, -114.54430128,\n",
       "        -109.63717949, -104.73005769,  -99.8229359 ,  -94.9158141 ,\n",
       "         -90.00869231,  -85.10157051,  -80.19444872,  -75.28732692,\n",
       "         -70.38020513,  -65.47308333,  -60.56596154,  -55.65883974,\n",
       "         -50.75171795,  -45.84459615,  -40.93747436,  -36.03035256,\n",
       "         -31.12323077,  -26.21610897,  -21.30898718,  -16.40186538,\n",
       "         -11.49474359,   -6.58762179,   -1.6805    ,    3.22662179,\n",
       "           8.13374359,   13.04086538,   17.94798718,   22.85510897,\n",
       "          27.76223077,   32.66935256,   37.57647436,   42.48359615,\n",
       "          47.39071795,   52.29783974,   57.20496154,   62.11208333,\n",
       "          67.01920513,   71.92632692,   76.83344872,   81.74057051,\n",
       "          86.64769231,   91.5548141 ,   96.4619359 ,  101.36905769,\n",
       "         106.27617949,  111.18330128,  116.09042308,  120.99754487,\n",
       "         125.90466667,  130.81178846,  135.71891026,  140.62603205,\n",
       "         145.53315385,  150.44027564,  155.34739744,  160.25451923,\n",
       "         165.16164103,  170.06876282,  174.97588462,  179.88300641,\n",
       "         184.79012821,  189.69725   ,  194.60437179,  199.51149359,\n",
       "         204.41861538,  209.32573718,  214.23285897,  219.13998077,\n",
       "         224.04710256,  228.95422436,  233.86134615,  238.76846795,\n",
       "         243.67558974,  248.58271154,  253.48983333,  258.39695513,\n",
       "         263.30407692,  268.21119872,  273.11832051,  278.02544231,\n",
       "         282.9325641 ,  287.8396859 ,  292.74680769,  297.65392949,\n",
       "         302.56105128,  307.46817308,  312.37529487,  317.28241667,\n",
       "         322.18953846,  327.09666026,  332.00378205,  336.91090385,\n",
       "         341.81802564,  346.72514744,  351.63226923,  356.53939103,\n",
       "         361.44651282,  366.35363462,  371.26075641,  376.16787821,\n",
       "         381.075     ]),\n",
       " <matplotlib.collections.QuadMesh at 0x7f48eaed4ac8>)"
      ]
     },
     "execution_count": 115,
     "metadata": {},
     "output_type": "execute_result"
    },
    {
     "data": {
      "image/png": "[encoded data removed]",
      "text/plain": [
       "<Figure size 432x288 with 1 Axes>"
      ]
     },
     "metadata": {
      "needs_background": "light"
     },
     "output_type": "display_data"
    }
   ],
   "source": [
    "plt.hist2d(small_positions[3000,:,0],small_positions[3000,:,1],bins=[90*2,78*2])"
   ]
  },
  {
   "cell_type": "code",
   "execution_count": 88,
   "metadata": {},
   "outputs": [],
   "source": [
    "yvelocities=a.velocities[0:4000,0:2000,1]"
   ]
  },
  {
   "cell_type": "code",
   "execution_count": 28,
   "metadata": {},
   "outputs": [],
   "source": [
    "xvelocities=a.velocities[0:3000,0:400,0]"
   ]
  },
  {
   "cell_type": "code",
   "execution_count": 39,
   "metadata": {},
   "outputs": [
    {
     "data": {
      "text/plain": [
       "19.90146097191042"
      ]
     },
     "execution_count": 39,
     "metadata": {},
     "output_type": "execute_result"
    }
   ],
   "source": [
    "np.average(xvelocities)"
   ]
  },
  {
   "cell_type": "code",
   "execution_count": 30,
   "metadata": {},
   "outputs": [],
   "source": [
    "xvelocities=np.swapaxes(xvelocities,0,1)\n",
    "\n",
    "i=xvelocities[1,:]\n",
    "N=len(i)\n",
    "F = np.fft.fft(i, n=2*N)  #2*N because of zero-padding\n",
    "PSD = F * F.conjugate()\n",
    "PSD_sum=PSD.real\n",
    "\n",
    "for i in xvelocities:\n",
    "    N=len(i)\n",
    "    F = np.fft.fft(i, n=2*N)  #2*N because of zero-padding\n",
    "    PSD = F * F.conjugate()\n",
    "    PSD_sum+=PSD.real"
   ]
  },
  {
   "cell_type": "code",
   "execution_count": 89,
   "metadata": {},
   "outputs": [],
   "source": [
    "yvelocities=np.swapaxes(yvelocities,0,1)\n",
    "\n",
    "i=yvelocities[1,:]\n",
    "N=len(i)\n",
    "F = np.fft.fft(i, n=2*N)  #2*N because of zero-padding\n",
    "PSD = F * F.conjugate()\n",
    "PSD_sum=PSD.real\n",
    "\n",
    "for i in yvelocities:\n",
    "    N=len(i)\n",
    "    F = np.fft.fft(i, n=2*N)  #2*N because of zero-padding\n",
    "    PSD = F * F.conjugate()\n",
    "    PSD_sum+=PSD.real"
   ]
  },
  {
   "cell_type": "code",
   "execution_count": 97,
   "metadata": {},
   "outputs": [
    {
     "data": {
      "image/png": "[encoded data removed]",
      "text/plain": [
       "<Figure size 432x288 with 1 Axes>"
      ]
     },
     "metadata": {
      "needs_background": "light"
     },
     "output_type": "display_data"
    }
   ],
   "source": [
    "import matplotlib.pyplot as plt\n",
    "plt.plot(PSD_sum[0:500])\n",
    "\n",
    "plt.xlabel('frequency')\n",
    "plt.ylabel('Density of states')\n",
    "\n",
    "plt.savefig('Under_electric_field.png')"
   ]
  },
  {
   "cell_type": "code",
   "execution_count": 40,
   "metadata": {},
   "outputs": [
    {
     "data": {
      "text/plain": [
       "3000"
      ]
     },
     "execution_count": 40,
     "metadata": {},
     "output_type": "execute_result"
    }
   ],
   "source": [
    "N"
   ]
  },
  {
   "cell_type": "code",
   "execution_count": 8,
   "metadata": {},
   "outputs": [
    {
     "data": {
      "text/plain": [
       "-3.5669275177951933e-12"
      ]
     },
     "execution_count": 8,
     "metadata": {},
     "output_type": "execute_result"
    }
   ],
   "source": [
    "np.average(xvelocities)"
   ]
  },
  {
   "cell_type": "code",
   "execution_count": null,
   "metadata": {},
   "outputs": [],
   "source": []
  },
  {
   "cell_type": "code",
   "execution_count": 14,
   "metadata": {},
   "outputs": [
    {
     "data": {
      "text/plain": [
       "0.0005011218265328808"
      ]
     },
     "execution_count": 14,
     "metadata": {},
     "output_type": "execute_result"
    }
   ],
   "source": [
    "yvelocities=a.velocities[0:1000,2000:26000,1]\n",
    "np.average(yvelocities)"
   ]
  },
  {
   "cell_type": "code",
   "execution_count": 68,
   "metadata": {},
   "outputs": [],
   "source": [
    "exvelocities=exvelocities.flatten()"
   ]
  },
  {
   "cell_type": "code",
   "execution_count": 69,
   "metadata": {
    "scrolled": true
   },
   "outputs": [
    {
     "data": {
      "text/plain": [
       "(array([1.000e+00, 0.000e+00, 2.000e+00, 4.000e+00, 0.000e+00, 0.000e+00,\n",
       "        1.000e+00, 2.000e+00, 4.000e+00, 7.000e+00, 4.000e+00, 4.000e+00,\n",
       "        1.500e+01, 1.400e+01, 1.400e+01, 2.800e+01, 3.500e+01, 4.500e+01,\n",
       "        4.600e+01, 6.000e+01, 8.900e+01, 1.050e+02, 1.290e+02, 1.830e+02,\n",
       "        1.960e+02, 2.490e+02, 2.910e+02, 3.510e+02, 3.870e+02, 3.910e+02,\n",
       "        5.210e+02, 5.760e+02, 6.490e+02, 6.990e+02, 8.360e+02, 9.140e+02,\n",
       "        9.810e+02, 1.074e+03, 1.141e+03, 1.232e+03, 1.251e+03, 1.452e+03,\n",
       "        1.479e+03, 1.511e+03, 1.583e+03, 1.601e+03, 1.631e+03, 1.702e+03,\n",
       "        1.752e+03, 1.595e+03, 1.657e+03, 1.542e+03, 1.579e+03, 1.541e+03,\n",
       "        1.412e+03, 1.370e+03, 1.320e+03, 1.115e+03, 1.135e+03, 1.027e+03,\n",
       "        9.230e+02, 8.640e+02, 7.590e+02, 7.260e+02, 6.290e+02, 5.250e+02,\n",
       "        4.720e+02, 4.170e+02, 3.560e+02, 3.190e+02, 2.700e+02, 2.320e+02,\n",
       "        2.110e+02, 1.660e+02, 1.280e+02, 1.080e+02, 6.100e+01, 7.000e+01,\n",
       "        5.600e+01, 5.400e+01, 2.800e+01, 2.500e+01, 1.700e+01, 1.400e+01,\n",
       "        1.100e+01, 6.000e+00, 4.000e+00, 3.000e+00, 4.000e+00, 3.000e+00,\n",
       "        0.000e+00, 0.000e+00, 0.000e+00, 1.000e+00, 0.000e+00, 1.000e+00,\n",
       "        0.000e+00, 1.000e+00, 0.000e+00, 1.000e+00]),\n",
       " array([-9.39425  , -9.1996895, -9.005129 , -8.8105685, -8.616008 ,\n",
       "        -8.4214475, -8.226887 , -8.0323265, -7.837766 , -7.6432055,\n",
       "        -7.448645 , -7.2540845, -7.059524 , -6.8649635, -6.670403 ,\n",
       "        -6.4758425, -6.281282 , -6.0867215, -5.892161 , -5.6976005,\n",
       "        -5.50304  , -5.3084795, -5.113919 , -4.9193585, -4.724798 ,\n",
       "        -4.5302375, -4.335677 , -4.1411165, -3.946556 , -3.7519955,\n",
       "        -3.557435 , -3.3628745, -3.168314 , -2.9737535, -2.779193 ,\n",
       "        -2.5846325, -2.390072 , -2.1955115, -2.000951 , -1.8063905,\n",
       "        -1.61183  , -1.4172695, -1.222709 , -1.0281485, -0.833588 ,\n",
       "        -0.6390275, -0.444467 , -0.2499065, -0.055346 ,  0.1392145,\n",
       "         0.333775 ,  0.5283355,  0.722896 ,  0.9174565,  1.112017 ,\n",
       "         1.3065775,  1.501138 ,  1.6956985,  1.890259 ,  2.0848195,\n",
       "         2.27938  ,  2.4739405,  2.668501 ,  2.8630615,  3.057622 ,\n",
       "         3.2521825,  3.446743 ,  3.6413035,  3.835864 ,  4.0304245,\n",
       "         4.224985 ,  4.4195455,  4.614106 ,  4.8086665,  5.003227 ,\n",
       "         5.1977875,  5.392348 ,  5.5869085,  5.781469 ,  5.9760295,\n",
       "         6.17059  ,  6.3651505,  6.559711 ,  6.7542715,  6.948832 ,\n",
       "         7.1433925,  7.337953 ,  7.5325135,  7.727074 ,  7.9216345,\n",
       "         8.116195 ,  8.3107555,  8.505316 ,  8.6998765,  8.894437 ,\n",
       "         9.0889975,  9.283558 ,  9.4781185,  9.672679 ,  9.8672395,\n",
       "        10.0618   ]),\n",
       " <a list of 100 Patch objects>)"
      ]
     },
     "execution_count": 69,
     "metadata": {},
     "output_type": "execute_result"
    },
    {
     "data": {
      "image/png": "[encoded data removed]",
      "text/plain": [
       "<Figure size 432x288 with 1 Axes>"
      ]
     },
     "metadata": {
      "needs_background": "light"
     },
     "output_type": "display_data"
    }
   ],
   "source": [
    "plt.hist(exvelocities,bins=100)"
   ]
  },
  {
   "cell_type": "code",
   "execution_count": 13,
   "metadata": {},
   "outputs": [
    {
     "data": {
      "text/plain": [
       "array([[[ 0.00000e+00,  0.00000e+00,  0.00000e+00],\n",
       "        [ 0.00000e+00,  0.00000e+00,  0.00000e+00],\n",
       "        [ 0.00000e+00,  0.00000e+00,  0.00000e+00],\n",
       "        ...,\n",
       "        [ 0.00000e+00,  0.00000e+00,  0.00000e+00],\n",
       "        [ 0.00000e+00,  0.00000e+00,  0.00000e+00],\n",
       "        [ 0.00000e+00,  0.00000e+00,  0.00000e+00]],\n",
       "\n",
       "       [[-1.20208e-01, -1.07457e-02, -8.85979e-03],\n",
       "        [-4.39132e-03, -7.18574e-03, -2.44551e-04],\n",
       "        [-2.13284e-01, -4.59700e-02,  5.43428e-04],\n",
       "        ...,\n",
       "        [-1.76476e+00,  2.53173e+00, -1.24602e-01],\n",
       "        [-3.16482e+00,  2.95223e+00,  4.73779e-02],\n",
       "        [-3.86259e+00, -4.45873e+00,  1.33294e-01]],\n",
       "\n",
       "       [[-6.82369e-02,  5.39500e-03, -8.52933e-03],\n",
       "        [ 5.43124e-02,  1.29020e-01, -8.78177e-03],\n",
       "        [-1.87436e-01,  1.30700e-01,  8.53146e-03],\n",
       "        ...,\n",
       "        [ 3.36514e+00,  9.73237e-01, -9.18081e-02],\n",
       "        [-7.79912e-02, -1.60040e+00, -1.77494e-01],\n",
       "        [ 2.29332e+00,  9.63147e-01,  1.56151e-02]],\n",
       "\n",
       "       ...,\n",
       "\n",
       "       [[-1.71926e-02, -1.32267e-02, -6.73284e-03],\n",
       "        [ 1.77991e-01, -1.49411e-01, -9.50754e-03],\n",
       "        [ 2.04074e-01,  7.84237e-02,  5.11305e-03],\n",
       "        ...,\n",
       "        [-9.33883e-01,  3.81035e+00,  1.42747e-01],\n",
       "        [-2.39968e+00, -9.14010e-01,  2.57086e-02],\n",
       "        [ 7.19360e-01, -1.02733e+00, -1.69403e-01]],\n",
       "\n",
       "       [[-7.30245e-02, -4.87612e-02, -1.44099e-03],\n",
       "        [ 6.84133e-02,  1.14682e-01,  8.81408e-03],\n",
       "        [-1.57940e-02,  9.51251e-02, -3.37538e-03],\n",
       "        ...,\n",
       "        [ 1.62531e+00, -2.99052e-01,  1.19302e-01],\n",
       "        [-2.30192e+00, -2.87891e-01, -1.06235e-01],\n",
       "        [-1.62885e-03, -5.67726e+00, -1.91240e-01]],\n",
       "\n",
       "       [[-2.19897e-01, -1.02692e-01, -7.48339e-03],\n",
       "        [ 1.10666e-01,  4.54963e-02, -8.48682e-04],\n",
       "        [ 3.72032e-02,  6.45739e-02,  2.39623e-03],\n",
       "        ...,\n",
       "        [ 1.67319e+00, -1.41026e+00, -1.11158e-01],\n",
       "        [-8.67531e-01,  3.67356e+00, -1.50156e-01],\n",
       "        [ 2.61628e-01, -6.34380e-01, -1.82772e-01]]])"
      ]
     },
     "execution_count": 13,
     "metadata": {},
     "output_type": "execute_result"
    }
   ],
   "source": [
    "a.velocities"
   ]
  },
  {
   "cell_type": "code",
   "execution_count": 63,
   "metadata": {},
   "outputs": [],
   "source": [
    "vearray=np.array(a.velocities[0:200])\n",
    "vearray=np.swapaxes(vearray,0,1)\n",
    "velarge=vearray[0:400]\n",
    "vesmall=vearray[400:]\n",
    "vnarray=np.array(a.velocities[200:])\n",
    "vnarray=np.swapaxes(vnarray,0,1)\n",
    "vnlarge=vnarray[0:400]\n",
    "vnsmall=vnarray[400:]\n",
    "\n",
    "count=0\n",
    "eley=0\n",
    "for i in range(0,400):\n",
    "    for j in range(0,200):\n",
    "        count+=1\n",
    "        eley+=(velarge[i][j][1])**2\n",
    "tley=eley/count\n",
    "elny=0\n",
    "count=0\n",
    "for i in range(0,400):\n",
    "    for j in range(0,2000):\n",
    "        count+=1\n",
    "        elny+=(vnlarge[i][j][1])**2\n",
    "tlny=elny/count\n",
    "count=0\n",
    "elex=0\n",
    "for i in range(0,400):\n",
    "    for j in range(0,200):\n",
    "        count+=1\n",
    "        elex+=(velarge[i][j][0])**2\n",
    "tlex=elex/count\n",
    "elnx=0\n",
    "count=0\n",
    "for i in range(0,400):\n",
    "    for j in range(0,2000):\n",
    "        count+=1\n",
    "        elnx+=(vnlarge[i][j][0])**2\n",
    "tlnx=elnx/count\n",
    "esey=0\n",
    "count=0\n",
    "for i in range(0,4800):\n",
    "    for j in range(0,200):\n",
    "        count+=1\n",
    "        esey+=(vesmall[i][j][1])**2\n",
    "tsey=esey/count\n",
    "esex=0\n",
    "count=0\n",
    "for i in range(0,4800):\n",
    "    for j in range(0,200):\n",
    "        count+=1\n",
    "        esex+=(vesmall[i][j][0])**2\n",
    "tsex=esex/count\n"
   ]
  },
  {
   "cell_type": "code",
   "execution_count": 64,
   "metadata": {},
   "outputs": [],
   "source": [
    "vsnx=0\n",
    "count=0\n",
    "for i in range(0,4800):\n",
    "    for j in range(0,2000):\n",
    "        count+=1\n",
    "        vsnx+=(vnsmall[i][j][0])\n",
    "vsnx_average=vsnx/count"
   ]
  },
  {
   "cell_type": "code",
   "execution_count": 65,
   "metadata": {},
   "outputs": [],
   "source": [
    "vsex=0\n",
    "count=0\n",
    "for i in range(0,4800):\n",
    "    for j in range(0,200):\n",
    "        count+=1\n",
    "        vsex+=(vesmall[i][j][0])\n",
    "vsex_average=vsex/count"
   ]
  },
  {
   "cell_type": "code",
   "execution_count": 66,
   "metadata": {},
   "outputs": [
    {
     "data": {
      "text/plain": [
       "9.502089273296864"
      ]
     },
     "execution_count": 66,
     "metadata": {},
     "output_type": "execute_result"
    }
   ],
   "source": [
    "vsnx_average"
   ]
  },
  {
   "cell_type": "code",
   "execution_count": 54,
   "metadata": {},
   "outputs": [
    {
     "data": {
      "text/plain": [
       "0.012509904734157721"
      ]
     },
     "execution_count": 54,
     "metadata": {},
     "output_type": "execute_result"
    }
   ],
   "source": [
    "tlnx"
   ]
  },
  {
   "cell_type": "code",
   "execution_count": 23,
   "metadata": {},
   "outputs": [
    {
     "data": {
      "text/plain": [
       "array([[[ 0.        ,  0.        ,  0.        ],\n",
       "        [-0.0209518 , -0.0372832 ,  0.        ],\n",
       "        [-0.0455249 , -0.0085156 ,  0.        ],\n",
       "        ...,\n",
       "        [-0.0282453 , -0.0968218 ,  0.        ],\n",
       "        [ 0.0309065 , -0.0151037 ,  0.        ],\n",
       "        [ 0.0231987 , -0.0186509 ,  0.        ]],\n",
       "\n",
       "       [[ 0.        ,  0.        ,  0.        ],\n",
       "        [ 0.0278087 ,  0.0244357 ,  0.        ],\n",
       "        [ 0.0244803 ,  0.0640127 ,  0.        ],\n",
       "        ...,\n",
       "        [ 0.0845195 ,  0.0718655 ,  0.        ],\n",
       "        [ 0.0454012 , -0.0163588 ,  0.        ],\n",
       "        [ 0.00107013,  0.0440818 ,  0.        ]],\n",
       "\n",
       "       [[ 0.        ,  0.        ,  0.        ],\n",
       "        [-0.0260924 ,  0.0474549 ,  0.        ],\n",
       "        [-0.0172058 ,  0.0257557 ,  0.        ],\n",
       "        ...,\n",
       "        [-0.108047  , -0.00271505,  0.        ],\n",
       "        [ 0.0532521 ,  0.0427759 ,  0.        ],\n",
       "        [ 0.02918   ,  0.015181  ,  0.        ]],\n",
       "\n",
       "       ...,\n",
       "\n",
       "       [[ 0.        ,  0.        ,  0.        ],\n",
       "        [ 0.0762374 ,  0.136055  ,  0.        ],\n",
       "        [-0.058579  ,  0.0363309 ,  0.        ],\n",
       "        ...,\n",
       "        [-0.0118055 ,  0.0607154 ,  0.        ],\n",
       "        [ 0.0900707 ,  0.0379251 ,  0.        ],\n",
       "        [-0.0319689 , -0.0521688 ,  0.        ]],\n",
       "\n",
       "       [[ 0.        ,  0.        ,  0.        ],\n",
       "        [-0.0412152 ,  0.00427709,  0.        ],\n",
       "        [-0.0505963 ,  0.0547242 ,  0.        ],\n",
       "        ...,\n",
       "        [-0.00762872,  0.0165716 ,  0.        ],\n",
       "        [-0.0906685 , -0.0155697 ,  0.        ],\n",
       "        [-0.00929055, -0.0232207 ,  0.        ]],\n",
       "\n",
       "       [[ 0.        ,  0.        ,  0.        ],\n",
       "        [ 0.112828  ,  0.0154869 ,  0.        ],\n",
       "        [ 0.0272844 , -0.00891425,  0.        ],\n",
       "        ...,\n",
       "        [ 0.0595761 , -0.00485909,  0.        ],\n",
       "        [-0.0513135 , -0.0692907 ,  0.        ],\n",
       "        [ 0.00518778, -0.0392474 ,  0.        ]]])"
      ]
     },
     "execution_count": 23,
     "metadata": {},
     "output_type": "execute_result"
    }
   ],
   "source": [
    "velarge"
   ]
  },
  {
   "cell_type": "code",
   "execution_count": 21,
   "metadata": {},
   "outputs": [
    {
     "data": {
      "text/plain": [
       "4168.096712374677"
      ]
     },
     "execution_count": 21,
     "metadata": {},
     "output_type": "execute_result"
    }
   ],
   "source": [
    "ex/count"
   ]
  },
  {
   "cell_type": "code",
   "execution_count": 33,
   "metadata": {},
   "outputs": [
    {
     "data": {
      "text/plain": [
       "0.0"
      ]
     },
     "execution_count": 33,
     "metadata": {},
     "output_type": "execute_result"
    }
   ],
   "source": [
    "ez/count"
   ]
  },
  {
   "cell_type": "code",
   "execution_count": 14,
   "metadata": {},
   "outputs": [],
   "source": [
    "varray=np.array(a.velocities[800:])\n",
    "varray=np.swapaxes(varray,0,1)\n",
    "parray=np.array(a.positions[800:])\n",
    "parray=np.swapaxes(parray,0,1)\n",
    "count1=0\n",
    "count2=0\n",
    "e1=0\n",
    "e2=0\n",
    "for i in range(0,5200):\n",
    "    for j in range(0,4000):\n",
    "        if parray[i][j][0]>-450 and parray[i][j][0]<-360:\n",
    "            count1+=1\n",
    "            e1+=varray[i][j][0]**2+varray[i][j][1]**2\n",
    "        else:\n",
    "            if parray[i][j][0]>360 and parray[i][j][0]<450:\n",
    "                count1+=1\n",
    "                e1+=varray[i][j][0]**2+varray[i][j][1]**2\n",
    "            else:\n",
    "                count2+=1\n",
    "                e2+=varray[i][j][0]**2+varray[i][j][1]**2\n"
   ]
  },
  {
   "cell_type": "code",
   "execution_count": 15,
   "metadata": {},
   "outputs": [],
   "source": [
    "t1=e1/count1\n",
    "t2=e2/count2"
   ]
  },
  {
   "cell_type": "code",
   "execution_count": 17,
   "metadata": {},
   "outputs": [
    {
     "data": {
      "text/plain": [
       "2.8526251846303516"
      ]
     },
     "execution_count": 17,
     "metadata": {},
     "output_type": "execute_result"
    }
   ],
   "source": [
    "t2"
   ]
  },
  {
   "cell_type": "code",
   "execution_count": 8,
   "metadata": {},
   "outputs": [
    {
     "data": {
      "text/plain": [
       "(5200, 4001, 3)"
      ]
     },
     "execution_count": 8,
     "metadata": {},
     "output_type": "execute_result"
    }
   ],
   "source": [
    "parray.shape"
   ]
  },
  {
   "cell_type": "code",
   "execution_count": null,
   "metadata": {},
   "outputs": [],
   "source": [
    "for i in range(0,5200)"
   ]
  },
  {
   "cell_type": "code",
   "execution_count": 28,
   "metadata": {},
   "outputs": [],
   "source": [
    " for line in f:\n",
    "            n_t=int(count/(N_particles+9))\n",
    "            if n_t<N_start:\n",
    "                count+=1varray=np.array(a.velocities[800:])\n",
    "varray=np.swapaxes(varray,0,1)\n",
    "varray=varray[0:10]\n",
    "i=varray[1,:,0]\n",
    "N=len(i)\n",
    "F = np.fft.fft(i, n=2*N)  #2*N because of zero-padding\n",
    "PSD = F * F.conjugate()\n",
    "PSD_sum=PSD.real\n",
    "for j in range(0,3):\n",
    "    for i in varray:\n",
    "        N=len(i[:,j])\n",
    "        F = np.fft.fft(i[:,j], n=2*N)  #2*N because of zero-padding\n",
    "        PSD = F * F.conjugate()\n",
    "        PSD_sum+=PSD.real"
   ]
  },
  {
   "cell_type": "code",
   "execution_count": 29,
   "metadata": {},
   "outputs": [
    {
     "data": {
      "image/png": "[encoded data removed]",
      "text/plain": [
       "<Figure size 432x288 with 1 Axes>"
      ]
     },
     "metadata": {
      "needs_background": "light"
     },
     "output_type": "display_data"
    }
   ],
   "source": [
    "import matplotlib.pyplot as plt\n",
    "plt.plot(PSD_sum[0:4000])\n",
    "\n",
    "plt.xlabel('frequency')\n",
    "plt.ylabel('Density of states')\n",
    "\n",
    "plt.savefig('vibrate_wall_1.png')"
   ]
  },
  {
   "cell_type": "code",
   "execution_count": 40,
   "metadata": {},
   "outputs": [],
   "source": [
    "a=read_lammpstrj('hexagonal_spring1.5.lammpstrj',400)"
   ]
  },
  {
   "cell_type": "code",
   "execution_count": null,
   "metadata": {},
   "outputs": [],
   "source": [
    "import matplotlib.pyplot as plt\n"
   ]
  }
 ],
 "metadata": {
  "kernelspec": {
   "display_name": "Python 3",
   "language": "python",
   "name": "python3"
  },
  "language_info": {
   "codemirror_mode": {
    "name": "ipython",
    "version": 3
   },
   "file_extension": ".py",
   "mimetype": "text/x-python",
   "name": "python",
   "nbconvert_exporter": "python",
   "pygments_lexer": "ipython3",
   "version": "3.7.3"
  }
 },
 "nbformat": 4,
 "nbformat_minor": 2
}
