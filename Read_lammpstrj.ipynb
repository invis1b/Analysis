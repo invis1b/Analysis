{
 "cells": [
  {
   "cell_type": "code",
   "execution_count": 4,
   "metadata": {},
   "outputs": [],
   "source": [
    "import numpy as np\n",
    "import sys\n"
   ]
  },
  {
   "cell_type": "code",
   "execution_count": 5,
   "metadata": {},
   "outputs": [],
   "source": [
    "class traj:\n",
    "    def __init__(self, box_size, positions,velocities,types):\n",
    "        self.box_size =box_size\n",
    "        self.positions=positions\n",
    "        self.velocities=velocities\n",
    "        self.types=types\n",
    "        \n"
   ]
  },
  {
   "cell_type": "code",
   "execution_count": 6,
   "metadata": {},
   "outputs": [],
   "source": [
    "a=traj(box_size=1,positions=1,velocities=1,types=1)"
   ]
  },
  {
   "cell_type": "code",
   "execution_count": 7,
   "metadata": {},
   "outputs": [],
   "source": [
    "def read_lammpstrj(filename,N_particles):\n",
    "    f=open(filename)\n",
    "    Lines=f.readlines()\n",
    "    n_timestep=int(len(Lines)/(N_particles+9))\n",
    "    box_size=np.zeros((n_timestep,3))\n",
    "    positions=np.zeros((n_timestep,N_particles,3))\n",
    "    velocities=np.zeros((n_timestep,N_particles,3))\n",
    "    types=np.zeros((n_timestep,N_particles))\n",
    "    count = 0\n",
    "\n",
    "    for line in Lines:\n",
    "        n_t=int(count/(N_particles+9))\n",
    "        separate=line.split()\n",
    "        if count%(9+N_particles)==5:\n",
    "            box_size[n_t][0]=float(separate[1])-float(separate[0])\n",
    "        if count%(9+N_particles)==6:\n",
    "            box_size[n_t][1]=float(separate[1])-float(separate[0])\n",
    "        if count%(9+N_particles)==7:\n",
    "            box_size[n_t][2]=float(separate[1])-float(separate[0])\n",
    "        if count%(9+N_particles)>=9:\n",
    "            n_p=int(separate[0])-1\n",
    "            types[n_t][n_p]=float(separate[1])\n",
    "            positions[n_t][n_p][0]=float(separate[3])\n",
    "            positions[n_t][n_p][1]=float(separate[4])\n",
    "            positions[n_t][n_p][2]=float(separate[5])\n",
    "            velocities[n_t][n_p][0]=float(separate[6])\n",
    "            velocities[n_t][n_p][1]=float(separate[7])\n",
    "            velocities[n_t][n_p][2]=float(separate[8])\n",
    "        count+=1\n",
    "    return traj(box_size=box_size,positions=positions,velocities=velocities,types=types)"
   ]
  },
  {
   "cell_type": "code",
   "execution_count": 14,
   "metadata": {},
   "outputs": [],
   "source": [
    "a=read_lammpstrj('electric_field_langevin_large_small_att_se.1.lammpstrj',5200)"
   ]
  },
  {
   "cell_type": "code",
   "execution_count": 15,
   "metadata": {},
   "outputs": [],
   "source": [
    "velocities=a.velocities\n",
    "velocities=np.swapaxes(velocities,0,1)\n",
    "xvsmall=velocities[400:5200,2000:4000,0]"
   ]
  },
  {
   "cell_type": "code",
   "execution_count": 16,
   "metadata": {},
   "outputs": [
    {
     "data": {
      "text/plain": [
       "0.008681030035718428"
      ]
     },
     "execution_count": 16,
     "metadata": {},
     "output_type": "execute_result"
    }
   ],
   "source": [
    "xvsmall.mean()"
   ]
  },
  {
   "cell_type": "code",
   "execution_count": 17,
   "metadata": {},
   "outputs": [
    {
     "data": {
      "text/plain": [
       "-0.00013615352550551968"
      ]
     },
     "execution_count": 17,
     "metadata": {},
     "output_type": "execute_result"
    }
   ],
   "source": [
    "yvsmall=velocities[400:5200,2000:4000,1]\n",
    "yvsmall.mean()"
   ]
  },
  {
   "cell_type": "code",
   "execution_count": 26,
   "metadata": {},
   "outputs": [],
   "source": [
    "varray=np.array(a.velocities)\n",
    "varray=np.swapaxes(varray,0,1)\n",
    "i=varray[1,:,0]\n",
    "N=len(i)\n",
    "F = np.fft.fft(i, n=2*N)  #2*N because of zero-padding\n",
    "PSD = F * F.conjugate()\n",
    "PSD_sum=PSD.real\n",
    "for j in range(0,3):\n",
    "    for i in varray:\n",
    "        N=len(i[:,j])\n",
    "        F = np.fft.fft(i[:,j], n=2*N)  #2*N because of zero-padding\n",
    "        PSD = F * F.conjugate()\n",
    "        PSD_sum+=PSD.real"
   ]
  },
  {
   "cell_type": "code",
   "execution_count": 28,
   "metadata": {},
   "outputs": [
    {
     "data": {
      "image/png": "[encoded data removed]",
      "text/plain": [
       "<Figure size 432x288 with 1 Axes>"
      ]
     },
     "metadata": {
      "needs_background": "light"
     },
     "output_type": "display_data"
    }
   ],
   "source": [
    "import matplotlib.pyplot as plt\n",
    "plt.plot(PSD_sum[0:400])\n",
    "\n",
    "plt.xlabel('frequency')\n",
    "plt.ylabel('Density of states')\n",
    "\n",
    "plt.savefig('T_1.5spring.png')"
   ]
  },
  {
   "cell_type": "code",
   "execution_count": 40,
   "metadata": {},
   "outputs": [],
   "source": [
    "a=read_lammpstrj('hexagonal_spring1.5.lammpstrj',400)"
   ]
  },
  {
   "cell_type": "code",
   "execution_count": null,
   "metadata": {},
   "outputs": [],
   "source": []
  }
 ],
 "metadata": {
  "kernelspec": {
   "display_name": "Python 3",
   "language": "python",
   "name": "python3"
  },
  "language_info": {
   "codemirror_mode": {
    "name": "ipython",
    "version": 3
   },
   "file_extension": ".py",
   "mimetype": "text/x-python",
   "name": "python",
   "nbconvert_exporter": "python",
   "pygments_lexer": "ipython3",
   "version": "3.7.3"
  }
 },
 "nbformat": 4,
 "nbformat_minor": 2
}
